{
 "cells": [
  {
   "cell_type": "code",
   "execution_count": 32,
   "metadata": {},
   "outputs": [],
   "source": [
    "from datetime import date\n",
    "\n",
    "import holidays\n",
    "import pandas as pd\n",
    "import glob"
   ]
  },
  {
   "cell_type": "code",
   "execution_count": 3,
   "metadata": {},
   "outputs": [],
   "source": [
    "nl_holidays = holidays.NL()"
   ]
  },
  {
   "cell_type": "code",
   "execution_count": 4,
   "metadata": {},
   "outputs": [
    {
     "data": {
      "text/plain": [
       "{}"
      ]
     },
     "execution_count": 4,
     "metadata": {},
     "output_type": "execute_result"
    }
   ],
   "source": [
    "nl_holidays"
   ]
  },
  {
   "cell_type": "code",
   "execution_count": 6,
   "metadata": {},
   "outputs": [],
   "source": [
    "us_holidays = holidays.UnitedStates()"
   ]
  },
  {
   "cell_type": "code",
   "execution_count": 8,
   "metadata": {},
   "outputs": [
    {
     "data": {
      "text/plain": [
       "True"
      ]
     },
     "execution_count": 8,
     "metadata": {},
     "output_type": "execute_result"
    }
   ],
   "source": [
    "date(2015, 1, 1) in nl_holidays"
   ]
  },
  {
   "cell_type": "code",
   "execution_count": 33,
   "metadata": {},
   "outputs": [],
   "source": [
    "allFiles = glob.glob('../missing_data/*.csv')\n",
    "\n",
    "for f in allFiles:\n",
    "    df = pd.read_csv(f)\n",
    "    df = pd.Series([date for date in df['dates'] if (date in nl_holidays) == False])\n",
    "    df.to_csv(f)\n",
    "    "
   ]
  },
  {
   "cell_type": "code",
   "execution_count": 25,
   "metadata": {},
   "outputs": [],
   "source": [
    "dates = []\n",
    "for date in df['dates']:\n",
    "    if (date in nl_holidays) == True:\n",
    "        pass\n",
    "    else:\n",
    "        dates.append(date)\n",
    "        "
   ]
  },
  {
   "cell_type": "code",
   "execution_count": 20,
   "metadata": {},
   "outputs": [
    {
     "name": "stdout",
     "output_type": "stream",
     "text": [
      "helo\n"
     ]
    }
   ],
   "source": [
    "if (date in nl_holidays) == True:\n",
    "    print('helo')"
   ]
  },
  {
   "cell_type": "code",
   "execution_count": 29,
   "metadata": {},
   "outputs": [],
   "source": [
    "df = pd.Series([date for date in df['dates'] if (date in nl_holidays) == False])"
   ]
  },
  {
   "cell_type": "code",
   "execution_count": 30,
   "metadata": {},
   "outputs": [
    {
     "data": {
      "text/plain": [
       "0      23-02-1945\n",
       "1      30-03-1945\n",
       "2      02-04-1945\n",
       "3      10-04-1945\n",
       "4      11-04-1945\n",
       "5      12-04-1945\n",
       "6      13-04-1945\n",
       "7      14-04-1945\n",
       "8      07-05-1945\n",
       "9      08-05-1945\n",
       "10     09-05-1945\n",
       "11     10-05-1945\n",
       "12     11-05-1945\n",
       "13     12-05-1945\n",
       "14     14-05-1945\n",
       "15     15-05-1945\n",
       "16     16-05-1945\n",
       "17     17-05-1945\n",
       "18     18-05-1945\n",
       "19     19-05-1945\n",
       "20     22-05-1945\n",
       "21     23-05-1945\n",
       "22     24-05-1945\n",
       "23     25-05-1945\n",
       "24     26-05-1945\n",
       "25     28-05-1945\n",
       "26     29-05-1945\n",
       "27     30-05-1945\n",
       "28     31-05-1945\n",
       "29     01-06-1945\n",
       "          ...    \n",
       "509    07-12-1964\n",
       "510    08-12-1964\n",
       "511    09-12-1964\n",
       "512    10-12-1964\n",
       "513    11-12-1964\n",
       "514    12-12-1964\n",
       "515    14-12-1964\n",
       "516    15-12-1964\n",
       "517    16-12-1964\n",
       "518    17-12-1964\n",
       "519    18-12-1964\n",
       "520    19-12-1964\n",
       "521    21-12-1964\n",
       "522    22-12-1964\n",
       "523    23-12-1964\n",
       "524    24-12-1964\n",
       "525    28-12-1964\n",
       "526    29-12-1964\n",
       "527    30-12-1964\n",
       "528    31-12-1964\n",
       "529    16-04-1965\n",
       "530    07-06-1965\n",
       "531    03-12-1965\n",
       "532    08-04-1966\n",
       "533    11-04-1966\n",
       "534    11-05-1966\n",
       "535    15-12-1966\n",
       "536    24-03-1967\n",
       "537    01-05-1967\n",
       "538    04-05-1967\n",
       "Length: 539, dtype: object"
      ]
     },
     "execution_count": 30,
     "metadata": {},
     "output_type": "execute_result"
    }
   ],
   "source": [
    "df.to_csv()"
   ]
  },
  {
   "cell_type": "code",
   "execution_count": null,
   "metadata": {},
   "outputs": [],
   "source": []
  }
 ],
 "metadata": {
  "kernelspec": {
   "display_name": "Python 3",
   "language": "python",
   "name": "python3"
  },
  "language_info": {
   "codemirror_mode": {
    "name": "ipython",
    "version": 3
   },
   "file_extension": ".py",
   "mimetype": "text/x-python",
   "name": "python",
   "nbconvert_exporter": "python",
   "pygments_lexer": "ipython3",
   "version": "3.7.2"
  }
 },
 "nbformat": 4,
 "nbformat_minor": 2
}
